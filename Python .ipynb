{
 "cells": [
  {
   "cell_type": "code",
   "execution_count": 1,
   "id": "13219e49-3482-4480-9636-0f077e1db5f8",
   "metadata": {},
   "outputs": [
    {
     "name": "stdout",
     "output_type": "stream",
     "text": [
      "hello\n"
     ]
    }
   ],
   "source": [
    "print (\"hello\")# hello\n"
   ]
  },
  {
   "cell_type": "markdown",
   "id": "3ea1c826-7394-44ab-bf61-e36523e53573",
   "metadata": {},
   "source": [
    "# variable assignment\n",
    "variable assignment"
   ]
  },
  {
   "cell_type": "code",
   "execution_count": 2,
   "id": "6f2314d1-ecdd-4c7d-945a-7f44cf8c5f8a",
   "metadata": {},
   "outputs": [],
   "source": [
    "morning_greetings= \"good morning\"\n",
    "evening_greetings= \"good evening\""
   ]
  },
  {
   "cell_type": "code",
   "execution_count": 3,
   "id": "98b144c3-b0fa-4e2f-bc56-30b69b25fb35",
   "metadata": {},
   "outputs": [
    {
     "name": "stdout",
     "output_type": "stream",
     "text": [
      "good morning\n"
     ]
    }
   ],
   "source": [
    "print (morning_greetings)"
   ]
  },
  {
   "cell_type": "code",
   "execution_count": 4,
   "id": "6350e696-03b0-4592-aeb1-e64bf99f70bc",
   "metadata": {},
   "outputs": [
    {
     "name": "stdout",
     "output_type": "stream",
     "text": [
      "good evening\n"
     ]
    }
   ],
   "source": [
    "print (evening_greetings)"
   ]
  },
  {
   "cell_type": "markdown",
   "id": "592dc098-527b-4ab5-901e-c47ee9ddedaa",
   "metadata": {},
   "source": [
    "# object types\n"
   ]
  },
  {
   "cell_type": "code",
   "execution_count": 5,
   "id": "6a4e0fb7-0302-4c0b-8fad-e2650f68c1b9",
   "metadata": {},
   "outputs": [
    {
     "data": {
      "text/plain": [
       "bool"
      ]
     },
     "execution_count": 5,
     "metadata": {},
     "output_type": "execute_result"
    }
   ],
   "source": [
    "#boolean\n",
    "Goodmorning = True\n",
    "Goodevening = False\n",
    "type(Goodmorning)"
   ]
  },
  {
   "cell_type": "code",
   "execution_count": 6,
   "id": "23031a5e-7565-4949-b47e-b6329a373b76",
   "metadata": {},
   "outputs": [
    {
     "data": {
      "text/plain": [
       "float"
      ]
     },
     "execution_count": 6,
     "metadata": {},
     "output_type": "execute_result"
    }
   ],
   "source": [
    "#float - any number with a decimal\n",
    "float1 = 12.3\n",
    "type(float1)"
   ]
  },
  {
   "cell_type": "code",
   "execution_count": 7,
   "id": "5743e5c0-9972-4b69-b998-5f2072a562ed",
   "metadata": {},
   "outputs": [
    {
     "data": {
      "text/plain": [
       "int"
      ]
     },
     "execution_count": 7,
     "metadata": {},
     "output_type": "execute_result"
    }
   ],
   "source": [
    "#integers- any whole number \n",
    "integer1 =34\n",
    "type(integer1)"
   ]
  },
  {
   "cell_type": "code",
   "execution_count": 8,
   "id": "2c8b3c9a-f641-4c0e-8ea9-a830681eff8c",
   "metadata": {},
   "outputs": [
    {
     "data": {
      "text/plain": [
       "str"
      ]
     },
     "execution_count": 8,
     "metadata": {},
     "output_type": "execute_result"
    }
   ],
   "source": [
    "#string - text data\n",
    "string1 = 'hello'\n",
    "type(string1)"
   ]
  },
  {
   "cell_type": "markdown",
   "id": "0139a98d-d97a-47cc-9e53-f4bb3d656efa",
   "metadata": {},
   "source": [
    "# data types"
   ]
  },
  {
   "cell_type": "markdown",
   "id": "2b1458a2-16cc-4896-8f8b-1ec932b5f7dc",
   "metadata": {},
   "source": [
    "string\n",
    "\n",
    "Dictionary\n",
    "\n",
    "Lists\n",
    "\n",
    "Sets\n",
    "\n",
    "Tuples"
   ]
  },
  {
   "cell_type": "code",
   "execution_count": 1,
   "id": "19da04d5-17f0-4ea1-98c0-76a1ec9ed0e2",
   "metadata": {},
   "outputs": [
    {
     "data": {
      "text/plain": [
       "'l'"
      ]
     },
     "execution_count": 1,
     "metadata": {},
     "output_type": "execute_result"
    }
   ],
   "source": [
    "#String -text data\n",
    "#immutable- cannot be changed once created\n",
    "string = \"hello\"\n",
    "len(string)\n",
    "string[3]\n",
    "#NB- In python indexing always starts at 0\n"
   ]
  },
  {
   "cell_type": "code",
   "execution_count": 5,
   "id": "fbfd1e90-e617-446e-afcd-f1599c58bb02",
   "metadata": {},
   "outputs": [
    {
     "name": "stdout",
     "output_type": "stream",
     "text": [
      "5\n",
      "9\n",
      "[1, 2, 3, 4, 5, 6, 7, 8, 9]\n",
      "[1, 2, 3, 5, 6, 7, 8, 9]\n"
     ]
    }
   ],
   "source": [
    "#lists - strictly uses indexes\n",
    "list1 =['a','b','c','d','e']\n",
    "list2 =[1,2,3,4,5,6,7,8]\n",
    "type(list1)\n",
    "#1. Mutable - can be altered \n",
    "print(len(list1))\n",
    "\n",
    "list2. append(9) #adds character at the end of the list\n",
    "print(len(list2))\n",
    "print(list2)\n",
    "\n",
    "list2.pop(3) #removes element at index 3\n",
    "print(list2)"
   ]
  },
  {
   "cell_type": "code",
   "execution_count": null,
   "id": "b4ef84b3-5c34-482e-811f-456a3252f713",
   "metadata": {},
   "outputs": [],
   "source": [
    "#sorting lists\n",
    "list3 =[12,5,32,1,22,4,7,2]\n",
    "print(list3)\n",
    "list3.sort()# sorts the list in ascending order\n",
    "print(list3)"
   ]
  },
  {
   "cell_type": "code",
   "execution_count": 6,
   "id": "f06a6796-34a4-4803-a147-de1e1ef34f3d",
   "metadata": {},
   "outputs": [
    {
     "data": {
      "text/plain": [
       "['cherry', 'banana', 'apple']"
      ]
     },
     "execution_count": 6,
     "metadata": {},
     "output_type": "execute_result"
    }
   ],
   "source": [
    "Fruits = [\"apple\", \"banana\", \"cherry\"]\n",
    "Fruits.reverse()\n",
    "Fruits"
   ]
  },
  {
   "cell_type": "markdown",
   "id": "093110a3-2804-45e3-9803-58014a4fac7f",
   "metadata": {},
   "source": [
    "Fruits.sort()\n",
    "Fruits"
   ]
  },
  {
   "cell_type": "code",
   "execution_count": 7,
   "id": "c9818759-4419-49f2-986f-7fdace4725c7",
   "metadata": {},
   "outputs": [
    {
     "data": {
      "text/plain": [
       "('apple', 'banana', 'cherry', 'orange')"
      ]
     },
     "execution_count": 7,
     "metadata": {},
     "output_type": "execute_result"
    }
   ],
   "source": [
    "#tuples -characterized by the normal brackets\n",
    "Fruits =('apple', 'banana', 'cherry')\n",
    "type(Fruits)\n",
    "#immutable -cannot be altered\n",
    "y = list(Fruits)\n",
    "y.append('orange')\n",
    "thistuple = tuple(y)\n",
    "type(thistuple)\n",
    "thistuple\n"
   ]
  },
  {
   "cell_type": "code",
   "execution_count": 8,
   "id": "a993c507-c648-45cf-a6d4-3c18e5d6fef8",
   "metadata": {},
   "outputs": [
    {
     "data": {
      "text/plain": [
       "tuple"
      ]
     },
     "execution_count": 8,
     "metadata": {},
     "output_type": "execute_result"
    }
   ],
   "source": [
    "Fruits =('apple', 'banana', 'cherry')\n",
    "type(Fruits)"
   ]
  },
  {
   "cell_type": "markdown",
   "id": "80c1aad1-1100-4b55-aea7-f2b554fbc8df",
   "metadata": {},
   "source": [
    "# Dictionary"
   ]
  },
  {
   "cell_type": "code",
   "execution_count": null,
   "id": "33b1e56f-ac9c-467d-8371-a9809e23032f",
   "metadata": {},
   "outputs": [],
   "source": [
    "# It is combination if key value pairs which form an item"
   ]
  },
  {
   "cell_type": "code",
   "execution_count": 11,
   "id": "be7d0506-5d70-4eec-ae52-afdd60cc0e48",
   "metadata": {},
   "outputs": [
    {
     "data": {
      "text/plain": [
       "dict"
      ]
     },
     "execution_count": 11,
     "metadata": {},
     "output_type": "execute_result"
    }
   ],
   "source": [
    "Dict1 = {\"Name\": \"John\", \"Residence\": \"Kasarani\", \"Age\":23}\n",
    "type(Dict1)"
   ]
  },
  {
   "cell_type": "code",
   "execution_count": 12,
   "id": "f3c70fe7-0a62-4e21-b557-38748a5d43b7",
   "metadata": {},
   "outputs": [
    {
     "data": {
      "text/plain": [
       "dict_keys(['Name', 'Residence', 'Age'])"
      ]
     },
     "execution_count": 12,
     "metadata": {},
     "output_type": "execute_result"
    }
   ],
   "source": [
    "Dict1.keys()"
   ]
  },
  {
   "cell_type": "code",
   "execution_count": 13,
   "id": "fa8c66fd-9fef-4ebc-94c4-7a617bd627ff",
   "metadata": {},
   "outputs": [
    {
     "data": {
      "text/plain": [
       "dict_values(['John', 'Kasarani', 23])"
      ]
     },
     "execution_count": 13,
     "metadata": {},
     "output_type": "execute_result"
    }
   ],
   "source": [
    "Dict1.values()"
   ]
  },
  {
   "cell_type": "code",
   "execution_count": 15,
   "id": "5113da42-221c-48bc-bd87-3960b40a0fee",
   "metadata": {},
   "outputs": [],
   "source": [
    "Dict1[\"Residence\"] = (\"kahawa\")"
   ]
  },
  {
   "cell_type": "code",
   "execution_count": 16,
   "id": "2e37fccf-ee4b-42c8-a979-7c80b7011da7",
   "metadata": {},
   "outputs": [
    {
     "data": {
      "text/plain": [
       "{'Name': 'John', 'Residence': 'kahawa', 'Age': 23}"
      ]
     },
     "execution_count": 16,
     "metadata": {},
     "output_type": "execute_result"
    }
   ],
   "source": [
    "Dict1 "
   ]
  },
  {
   "cell_type": "code",
   "execution_count": null,
   "id": "2b3ad08d-2a1d-4c1e-9116-7265241a8619",
   "metadata": {},
   "outputs": [],
   "source": [
    "print(Dict1)"
   ]
  },
  {
   "cell_type": "code",
   "execution_count": 17,
   "id": "dcf53112-4f5b-47fd-9358-9d9703b0b400",
   "metadata": {},
   "outputs": [
    {
     "data": {
      "text/plain": [
       "dict_items([('Name', 'John'), ('Residence', 'kahawa'), ('Age', 23)])"
      ]
     },
     "execution_count": 17,
     "metadata": {},
     "output_type": "execute_result"
    }
   ],
   "source": [
    "Dict1.items()"
   ]
  },
  {
   "cell_type": "markdown",
   "id": "7de7311c-3ca6-4637-bb61-6cea6a60c39c",
   "metadata": {},
   "source": [
    "# sets"
   ]
  },
  {
   "cell_type": "code",
   "execution_count": null,
   "id": "6f34360f-404a-4014-b62b-cd90eead4a81",
   "metadata": {},
   "outputs": [],
   "source": [
    "#set- doesnt allow duplicates and is mutable and ordered"
   ]
  },
  {
   "cell_type": "code",
   "execution_count": 18,
   "id": "dd222899-cf05-4db2-b8cf-c1ff02ea32cf",
   "metadata": {},
   "outputs": [
    {
     "data": {
      "text/plain": [
       "{1, 2, 3, 4, 5, 6, 7, 8, 10}"
      ]
     },
     "execution_count": 18,
     "metadata": {},
     "output_type": "execute_result"
    }
   ],
   "source": [
    "set1 = {1,2,3,3,4,4,5,3,2,2,4,4,6,7,8,6,10}\n",
    "set1"
   ]
  },
  {
   "cell_type": "markdown",
   "id": "8301c906-ecaf-4fad-b2c1-1f37d1a4878e",
   "metadata": {},
   "source": [
    "# Conditionals"
   ]
  },
  {
   "cell_type": "markdown",
   "id": "346c52c1-fe48-4cd7-ba20-a681c679b164",
   "metadata": {},
   "source": [
    "if- default first condition\n",
    "\n",
    "elif- between if and else\n",
    "\n",
    "else- default last condition\n"
   ]
  },
  {
   "cell_type": "code",
   "execution_count": null,
   "id": "01e58523-bbd6-4e40-b1fa-80829c05e0bb",
   "metadata": {},
   "outputs": [],
   "source": [
    "name = \"Johnte\"\n",
    "if name == \"Mary\":\n",
    "    print (f\"hello{name}\")\n",
    "elif name ==\"John\":\n",
    "    print(f\"this is{name}\")\n",
    "else:\n",
    "    print(\"name not found\")"
   ]
  },
  {
   "cell_type": "markdown",
   "id": "80ad2946-978e-4363-b9a4-67b44ac2b63e",
   "metadata": {},
   "source": [
    "0-49 - fail\n",
    "\n",
    "50-59- average\n",
    "\n",
    "60-69 - pass\n",
    "\n",
    "70 and above - excellent"
   ]
  },
  {
   "cell_type": "code",
   "execution_count": null,
   "id": "c3d172bd-d8af-4695-aa1d-6e43e0a20454",
   "metadata": {},
   "outputs": [],
   "source": [
    "marks = 67\n",
    "if marks > 0 and marks <= 49:\n",
    "    print (\"failed\")\n",
    "elif marks >=0 and marks<= 59:\n",
    "    print (\"average\")\n",
    "elif marks >= 60 and marks <= 69:\n",
    "    print (\"passed\")\n",
    "elif marks >= 70 and marks <= 100: \n",
    "    print(\"excellent\")\n",
    "else: \n",
    "    print (\"not in range\")"
   ]
  },
  {
   "cell_type": "markdown",
   "id": "583bcded-37c0-4bf9-b131-f5076801ca18",
   "metadata": {},
   "source": [
    "optimum_baking_temperature=200\n",
    "\n",
    "if it cooks under 100 degrees = undercooked\n",
    "\n",
    "if the temparature is betweeen 100 and 149 = approaching\n",
    "\n",
    "if it is between 150 an 199= almost \n",
    "\n",
    "if above 220 = way hot\n",
    "\n"
   ]
  },
  {
   "cell_type": "code",
   "execution_count": null,
   "id": "58e7eedb-2905-4b7f-b96c-46b21e1419a5",
   "metadata": {},
   "outputs": [],
   "source": [
    "degrees = 213\n",
    "if degrees > 0 and degrees <100:\n",
    "    print(\"undecooked\")\n",
    "elif degrees >=100 and degrees <= 149: \n",
    "    print (\"approaching\")\n",
    "elif degrees >= 150 and degrees<= 199:\n",
    "    print (\"almost\")\n",
    "elif degrees >= 200 and degrees <= 220:\n",
    "    print (\"perfect\")\n",
    "else :\n",
    "    print (\"way too hot\")"
   ]
  },
  {
   "cell_type": "markdown",
   "id": "5e181597-1520-40c9-b61a-338e846527ff",
   "metadata": {},
   "source": [
    "Write an python program that checks whether a number is posittie negative or zero\n",
    "\n",
    "Write a python program that checks whether a person is either a minor or an adult\n",
    "\n",
    "Write a python program that checks whether a number is odd or even\n",
    "\n",
    "Write a python program that checks whether a car is fast\n"
   ]
  },
  {
   "cell_type": "code",
   "execution_count": 24,
   "id": "1e256dea-55ab-42d8-8612-194bdd0dbbcb",
   "metadata": {},
   "outputs": [
    {
     "name": "stdout",
     "output_type": "stream",
     "text": [
      "odd\n"
     ]
    }
   ],
   "source": [
    "number = 28\n",
    "if number% 9 == 0:\n",
    "    print(\"even\")\n",
    "else:\n",
    "    print (\"odd\")\n",
    "\n",
    "\n"
   ]
  },
  {
   "cell_type": "code",
   "execution_count": null,
   "id": "afae0b34-a39a-4994-bd95-b93256b242ee",
   "metadata": {},
   "outputs": [],
   "source": [
    "number = -2\n",
    "if number <0:\n",
    "    print (\"negative\")\n",
    "elif number == 0:\n",
    "    print (\"zero\")\n",
    "else:\n",
    "    print(\"positive\")"
   ]
  },
  {
   "cell_type": "code",
   "execution_count": null,
   "id": "150b35b7-fe05-4bc9-a433-1dde6b2ad09c",
   "metadata": {},
   "outputs": [],
   "source": [
    "age =29\n",
    "if age <18:\n",
    "    print(\"minor\")\n",
    "else:\n",
    "    print(\"adult\")"
   ]
  },
  {
   "cell_type": "markdown",
   "id": "59cc2116-d82f-4e80-996b-89953d2287d5",
   "metadata": {},
   "source": [
    "# loops"
   ]
  },
  {
   "cell_type": "markdown",
   "id": "3ce1341e-fc27-4812-9eb9-7206d0458264",
   "metadata": {},
   "source": [
    "loops are used to iterate over data points in python\n",
    "\n",
    "we have 2 types of loops\n",
    "\n",
    "for loops\n",
    "\n",
    "while loops"
   ]
  },
  {
   "cell_type": "code",
   "execution_count": null,
   "id": "99879c84-f9e6-4f6e-99d1-5c754bb14dd8",
   "metadata": {},
   "outputs": [],
   "source": [
    "grades = list(range(0,201))\n",
    "print(grades)"
   ]
  },
  {
   "cell_type": "code",
   "execution_count": null,
   "id": "f6d26452-b7bd-449f-96df-784763320486",
   "metadata": {},
   "outputs": [],
   "source": [
    "#for loops\n",
    "for grade in grades:\n",
    "    if grade >= 1 and grade <=49:\n",
    "        print (f\"{grade} is grade F\")\n",
    "    elif grade >= 50 and grade <=59:\n",
    "        print (f\"{grade} is grade D\")\n",
    "    elif grade >= 60 and grade <=69:\n",
    "        print (f\"{grade} is grade C\")\n",
    "    elif grade >= 70 and grade <=79:\n",
    "        print (f\"{grade} is grade B\")\n",
    "    elif grade >= 80 and grade <=89:\n",
    "        print (f\"{grade} is grade A-\")\n",
    "    elif grade >= 90 and grade <=100:\n",
    "        print (f\"{grade} is grade A\")\n",
    "    else: \n",
    "        print (f\"{grade} is invalid\")"
   ]
  },
  {
   "cell_type": "code",
   "execution_count": null,
   "id": "34303689-1cc9-4955-8e29-a140f5ec234f",
   "metadata": {},
   "outputs": [],
   "source": [
    "cities =[\"New york\",\"New York City\",\"London\",\"Tokyo\",\"Paris\",\"Toronto\",\"Dubai\",\"São Paulo\",\"Beijing\",\"Istanbul\",\"Los Angeles\",\"Berlin\",\"Cape Town\",\"Mumbai\",\"Seoul\",\"Rome\",\"Bangkok\",\"Chicago\",\"Moscow\",\"Mexico City\"]\n",
    "print (cities)\n"
   ]
  },
  {
   "cell_type": "code",
   "execution_count": null,
   "id": "f228733a-8bb4-457a-9790-3f6332c3c562",
   "metadata": {},
   "outputs": [],
   "source": [
    "city_to_check = \"Chicago\"\n",
    "for city in cities:\n",
    "    if city_to_check in cities:\n",
    "        print (f\"{city_to_check} is in the list of cities\")\n",
    "        found = True\n",
    "        break\n",
    "    else:\n",
    "        print(f\"{city_to_check} is not in the list of cities\")\n",
    "        found = False\n",
    "        break"
   ]
  },
  {
   "cell_type": "markdown",
   "id": "628d6fd9-f090-4930-a2dc-7f27ff0ba1df",
   "metadata": {},
   "source": [
    "# while loops"
   ]
  },
  {
   "cell_type": "code",
   "execution_count": null,
   "id": "202a2265-47ba-43e4-867c-601f0dff6d3d",
   "metadata": {},
   "outputs": [],
   "source": [
    "stop_number = 4\n",
    "while stop_number> 0:\n",
    "    print (stop_number)\n",
    "    stop_number -=1\n",
    "print (\"the stop_number reached\", stop_number, \"so the while loop's condition became false and stopped execution\")"
   ]
  },
  {
   "cell_type": "code",
   "execution_count": null,
   "id": "873a1740-dee2-4ac1-8d64-f5e610d83c81",
   "metadata": {},
   "outputs": [],
   "source": [
    "d\n",
    "    "
   ]
  },
  {
   "cell_type": "markdown",
   "id": "469de0fb-6bee-4889-9306-cb3bc90c387e",
   "metadata": {},
   "source": [
    "# Nested loops"
   ]
  },
  {
   "cell_type": "code",
   "execution_count": null,
   "id": "684f1a1e-47cc-4f3c-990e-107f72b4923a",
   "metadata": {},
   "outputs": [],
   "source": [
    "outer_numbers = [1,2,3]\n",
    "inner_words =[\"one\", \"two\", \"three\"]\n",
    "for number in outer_numbers:\n",
    "    print(f\"this is iteration **{number}** of the OUTER loop\")\n",
    "    for word in inner_words:\n",
    "        print(f\"this is iteration *{word}* of the INNER loop\")\n",
    "    print(\"\\n\")"
   ]
  },
  {
   "cell_type": "markdown",
   "id": "6e66cb89-6931-4122-803a-3bd083ae5154",
   "metadata": {},
   "source": [
    "Write a program that adds numbers 1- 100\n",
    "\n",
    "Write a program that prints all even numbers from 1- 20\n",
    "\n",
    "Write a program that counts the number of vowels in a given string"
   ]
  },
  {
   "cell_type": "code",
   "execution_count": null,
   "id": "18795d23-ddfa-4c1c-bb1a-cd163735d4e8",
   "metadata": {},
   "outputs": [],
   "source": [
    "total_sum = 0\n",
    "for number in range (1, 101):\n",
    "    total_sum += number\n",
    "print (\" The sum of numbers from 1-100 is:\" ,total_sum)\n",
    "  "
   ]
  },
  {
   "cell_type": "code",
   "execution_count": null,
   "id": "72c45111-637f-4515-be69-de8b9d9d7750",
   "metadata": {},
   "outputs": [],
   "source": [
    "for number in range (1,21):\n",
    "    if number % 2 == 0:\n",
    "        print(f\"{number} is even\")\n",
    "\n"
   ]
  },
  {
   "cell_type": "markdown",
   "id": "c928b6d9-e518-4e3d-b372-b05fbf33f0a8",
   "metadata": {},
   "source": [
    "# Functions"
   ]
  },
  {
   "cell_type": "code",
   "execution_count": null,
   "id": "0590fd1b-bcf5-4524-a07f-68c40931d75d",
   "metadata": {},
   "outputs": [],
   "source": [
    "# Function to calculate mean of diff numbers\n",
    "def mean(data):\n",
    "    mean = sum(data)/len(data)\n",
    "    return mean"
   ]
  },
  {
   "cell_type": "code",
   "execution_count": null,
   "id": "dcdd63a0-2379-4d4a-842b-e7541a8eba09",
   "metadata": {},
   "outputs": [],
   "source": [
    "data1 = 1,2,3,4,5,6,\n",
    "data2 = 7,8,9,10,11"
   ]
  },
  {
   "cell_type": "code",
   "execution_count": null,
   "id": "d3cbeb3d-805f-40ec-a15b-6900571a4a7c",
   "metadata": {},
   "outputs": [],
   "source": [
    "mean(data1)"
   ]
  },
  {
   "cell_type": "code",
   "execution_count": null,
   "id": "816a881a-4dde-4437-bcdb-b5ed55cb2ad6",
   "metadata": {},
   "outputs": [],
   "source": [
    "mean(data2)"
   ]
  },
  {
   "cell_type": "code",
   "execution_count": null,
   "id": "650f9dfc-a91b-44f7-b338-854903d1b47d",
   "metadata": {},
   "outputs": [],
   "source": [
    "def greet_employees(data):\n",
    "    welcome_messages =[]\n",
    "    for new_employee in data:\n",
    "        welcome_messages.append(\"Hi \" + new_employee.title() + \", Im so glad to be working with you!\")\n",
    "\n",
    "    return welcome_messages"
   ]
  },
  {
   "cell_type": "code",
   "execution_count": null,
   "id": "b2d4907e-aabd-4e50-bd8a-50d37cd4db52",
   "metadata": {},
   "outputs": [],
   "source": [
    "data1 = [\"Mary\", \"Sandra\",\"Jacob\"]\n",
    "data2 = [\"Gabriel\",\"Raphael\",\"Micheal\",\"Jamal\",\"John\"]"
   ]
  },
  {
   "cell_type": "code",
   "execution_count": null,
   "id": "7d0bbaba-cb58-41ac-ab50-db1fb1cb4b20",
   "metadata": {},
   "outputs": [],
   "source": [
    "greet_employees(data1)"
   ]
  },
  {
   "cell_type": "code",
   "execution_count": 6,
   "id": "09d80909-0679-4e03-9219-d8544960a5c5",
   "metadata": {},
   "outputs": [],
   "source": [
    "#functions with arguments\n",
    "def find_the_mean(list_nums):\n",
    "    length = len(list_nums)\n",
    "    total = sum(list_nums)\n",
    "    return total/length\n",
    "def find_biggest_pop(list_pops_one,list_pops_two):\n",
    "    mean_one = find_the_mean(list_pops_one)\n",
    "    mean_two = find_the_mean(list_pops_two)\n",
    "    if (mean_one > mean_two):\n",
    "        return print (\"The first list,\", list_pops_one , \"has the larger mean population of\",mean_one, \"compared to\",mean_two)\n",
    "    else:\n",
    "        return print (\"The first list,\", list_pops_one , \"has the larger mean population of\",mean_two, \"compared to\",mean_one)"
   ]
  },
  {
   "cell_type": "code",
   "execution_count": 7,
   "id": "fda5a962-d11b-4a88-a7ea-a054b5f8c177",
   "metadata": {},
   "outputs": [],
   "source": [
    "area_one_pops = [43333,4798,89689,75868,37868]\n",
    "area_two_pops = [768766,7678,86,875765,887]"
   ]
  },
  {
   "cell_type": "raw",
   "id": "888bbffb-8714-4c02-8233-63f4cb7dafc0",
   "metadata": {},
   "source": [
    "find_biggest_pop(area_one_pops,area_two_pops)"
   ]
  },
  {
   "cell_type": "code",
   "execution_count": 8,
   "id": "32f1031c-466b-4a7c-af48-9579b71b04f3",
   "metadata": {},
   "outputs": [
    {
     "name": "stdout",
     "output_type": "stream",
     "text": [
      "The first list, [43333, 4798, 89689, 75868, 37868] has the larger mean population of 330636.4 compared to 50311.2\n"
     ]
    }
   ],
   "source": [
    "find_biggest_pop(area_one_pops,area_two_pops)"
   ]
  },
  {
   "cell_type": "code",
   "execution_count": 9,
   "id": "ab23163f-89f5-48e9-a3ea-88c6f7e3a470",
   "metadata": {},
   "outputs": [],
   "source": [
    "def hydration_func(water,hydration):\n",
    "    #in gallons\n",
    "    while hydration < 100 and water > 0:\n",
    "        print('---[sips water]---')\n",
    "        water -= 10\n",
    "        print ('ah that was refreshing')\n",
    "        print(f'water level:{water}%')\n",
    "        hydration += 10\n",
    "        print('hydration is now at', hydration, '%\\n')\n",
    "        if hydration >= 100:\n",
    "            break \n",
    "    return hydration_func"
   ]
  },
  {
   "cell_type": "code",
   "execution_count": 10,
   "id": "f8e7c071-ff19-4f32-9a4c-b27a4f92b44b",
   "metadata": {},
   "outputs": [],
   "source": [
    "water = 100\n",
    "hydration= 0"
   ]
  },
  {
   "cell_type": "code",
   "execution_count": 11,
   "id": "d13b8a19-5306-4e74-88f5-bd26a9624216",
   "metadata": {},
   "outputs": [
    {
     "name": "stdout",
     "output_type": "stream",
     "text": [
      "---[sips water]---\n",
      "ah that was refreshing\n",
      "water level:90%\n",
      "hydration is now at 10 %\n",
      "\n",
      "---[sips water]---\n",
      "ah that was refreshing\n",
      "water level:80%\n",
      "hydration is now at 20 %\n",
      "\n",
      "---[sips water]---\n",
      "ah that was refreshing\n",
      "water level:70%\n",
      "hydration is now at 30 %\n",
      "\n",
      "---[sips water]---\n",
      "ah that was refreshing\n",
      "water level:60%\n",
      "hydration is now at 40 %\n",
      "\n",
      "---[sips water]---\n",
      "ah that was refreshing\n",
      "water level:50%\n",
      "hydration is now at 50 %\n",
      "\n",
      "---[sips water]---\n",
      "ah that was refreshing\n",
      "water level:40%\n",
      "hydration is now at 60 %\n",
      "\n",
      "---[sips water]---\n",
      "ah that was refreshing\n",
      "water level:30%\n",
      "hydration is now at 70 %\n",
      "\n",
      "---[sips water]---\n",
      "ah that was refreshing\n",
      "water level:20%\n",
      "hydration is now at 80 %\n",
      "\n",
      "---[sips water]---\n",
      "ah that was refreshing\n",
      "water level:10%\n",
      "hydration is now at 90 %\n",
      "\n",
      "---[sips water]---\n",
      "ah that was refreshing\n",
      "water level:0%\n",
      "hydration is now at 100 %\n",
      "\n"
     ]
    },
    {
     "data": {
      "text/plain": [
       "<function __main__.hydration_func(water, hydration)>"
      ]
     },
     "execution_count": 11,
     "metadata": {},
     "output_type": "execute_result"
    }
   ],
   "source": [
    "hydration_func(water,hydration)"
   ]
  },
  {
   "cell_type": "code",
   "execution_count": 12,
   "id": "c148f234-cd1c-4e8f-b84c-01b05e5de286",
   "metadata": {},
   "outputs": [],
   "source": [
    "def city_checker(city):\n",
    "    for city in cities:\n",
    "        if city_to_check in cities:\n",
    "            print (f\"{city_to_check} is in the list of cities\")\n",
    "            found = True\n",
    "            break\n",
    "        else:\n",
    "            print(f\"{city_to_check} is not in the list of cities\")\n",
    "            found = False\n",
    "            break\n",
    "    return city_checker"
   ]
  },
  {
   "cell_type": "code",
   "execution_count": 13,
   "id": "66767f2b-3f2e-4fa2-81f0-acc9ce420eff",
   "metadata": {},
   "outputs": [],
   "source": [
    "city_to_check = \"Mumbai\""
   ]
  },
  {
   "cell_type": "code",
   "execution_count": 14,
   "id": "55d639e1-b238-449c-a55a-850f5e4bbe00",
   "metadata": {},
   "outputs": [
    {
     "ename": "NameError",
     "evalue": "name 'city' is not defined",
     "output_type": "error",
     "traceback": [
      "\u001b[31m---------------------------------------------------------------------------\u001b[39m",
      "\u001b[31mNameError\u001b[39m                                 Traceback (most recent call last)",
      "\u001b[36mCell\u001b[39m\u001b[36m \u001b[39m\u001b[32mIn[14]\u001b[39m\u001b[32m, line 1\u001b[39m\n\u001b[32m----> \u001b[39m\u001b[32m1\u001b[39m city_checker(\u001b[43mcity\u001b[49m)\n",
      "\u001b[31mNameError\u001b[39m: name 'city' is not defined"
     ]
    }
   ],
   "source": [
    "city_checker(city)"
   ]
  },
  {
   "cell_type": "code",
   "execution_count": 15,
   "id": "9c314818-8c1b-40ec-a812-199399c9ae40",
   "metadata": {},
   "outputs": [],
   "source": [
    "import numpy as np"
   ]
  },
  {
   "cell_type": "code",
   "execution_count": 16,
   "id": "114a8122-4ca7-418e-9cae-728a4c040cb3",
   "metadata": {},
   "outputs": [
    {
     "name": "stdout",
     "output_type": "stream",
     "text": [
      "Requirement already satisfied: numpy in c:\\users\\pc\\appdata\\local\\programs\\python\\python313\\lib\\site-packages (2.2.4)\n"
     ]
    }
   ],
   "source": [
    "! pip install numpy"
   ]
  },
  {
   "cell_type": "code",
   "execution_count": 17,
   "id": "2e2d459a-e3be-497b-a71c-1fa2cd8f7d77",
   "metadata": {},
   "outputs": [
    {
     "name": "stdout",
     "output_type": "stream",
     "text": [
      "[ 50  51  52  53  54  55  56  57  58  59  60  61  62  63  64  65  66  67\n",
      "  68  69  70  71  72  73  74  75  76  77  78  79  80  81  82  83  84  85\n",
      "  86  87  88  89  90  91  92  93  94  95  96  97  98  99 100]\n"
     ]
    }
   ],
   "source": [
    "import numpy as np\n",
    "grades = np.arange (50,101)\n",
    "print (grades)"
   ]
  },
  {
   "cell_type": "code",
   "execution_count": 18,
   "id": "faf99c4e-93ca-4671-8a73-07c8a63f676d",
   "metadata": {},
   "outputs": [
    {
     "data": {
      "text/plain": [
       "np.float64(75.0)"
      ]
     },
     "execution_count": 18,
     "metadata": {},
     "output_type": "execute_result"
    }
   ],
   "source": [
    "mean = np.mean(grades)\n",
    "mean"
   ]
  },
  {
   "cell_type": "code",
   "execution_count": 19,
   "id": "7c2ebc28-3426-4ab2-9c52-a09551d3232f",
   "metadata": {},
   "outputs": [
    {
     "data": {
      "text/plain": [
       "np.float64(14.719601443879744)"
      ]
     },
     "execution_count": 19,
     "metadata": {},
     "output_type": "execute_result"
    }
   ],
   "source": [
    "standard_deviation = np.std(grades)\n",
    "standard_deviation"
   ]
  },
  {
   "cell_type": "code",
   "execution_count": 20,
   "id": "65159e86-1e1d-4d4c-b9ca-40f59e7f1749",
   "metadata": {},
   "outputs": [
    {
     "data": {
      "text/plain": [
       "np.float64(14.719601443879744)"
      ]
     },
     "execution_count": 20,
     "metadata": {},
     "output_type": "execute_result"
    }
   ],
   "source": [
    "np.std(grades)"
   ]
  },
  {
   "cell_type": "code",
   "execution_count": null,
   "id": "53cd9365-6343-4f60-bd57-f72b53c6d3d7",
   "metadata": {},
   "outputs": [],
   "source": [
    "standard_deviation"
   ]
  },
  {
   "cell_type": "code",
   "execution_count": null,
   "id": "179f2d77-8e2d-4a76-a16b-0fde4399429c",
   "metadata": {},
   "outputs": [],
   "source": []
  }
 ],
 "metadata": {
  "kernelspec": {
   "display_name": "Python 3 (ipykernel)",
   "language": "python",
   "name": "python3"
  },
  "language_info": {
   "codemirror_mode": {
    "name": "ipython",
    "version": 3
   },
   "file_extension": ".py",
   "mimetype": "text/x-python",
   "name": "python",
   "nbconvert_exporter": "python",
   "pygments_lexer": "ipython3",
   "version": "3.13.2"
  }
 },
 "nbformat": 4,
 "nbformat_minor": 5
}
